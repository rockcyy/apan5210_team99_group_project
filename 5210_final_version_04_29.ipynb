{
 "cells": [
  {
   "cell_type": "code",
   "execution_count": 1,
   "id": "1bf3c5e7",
   "metadata": {},
   "outputs": [
    {
     "name": "stderr",
     "output_type": "stream",
     "text": [
      "/Users/chenyiyang/opt/anaconda3/lib/python3.9/site-packages/fuzzywuzzy/fuzz.py:11: UserWarning: Using slow pure-python SequenceMatcher. Install python-Levenshtein to remove this warning\n",
      "  warnings.warn('Using slow pure-python SequenceMatcher. Install python-Levenshtein to remove this warning')\n",
      "/Users/chenyiyang/Desktop/spring2023/5210/finalproject/func.py:11: FutureWarning: The frame.append method is deprecated and will be removed from pandas in a future version. Use pandas.concat instead.\n",
      "  md_vis = ld_vis.append(rd_vis)\n",
      "/Users/chenyiyang/Desktop/spring2023/5210/finalproject/func.py:40: SettingWithCopyWarning:\n",
      "\n",
      "\n",
      "A value is trying to be set on a copy of a slice from a DataFrame.\n",
      "Try using .loc[row_indexer,col_indexer] = value instead\n",
      "\n",
      "See the caveats in the documentation: https://pandas.pydata.org/pandas-docs/stable/user_guide/indexing.html#returning-a-view-versus-a-copy\n",
      "\n",
      "/Users/chenyiyang/Desktop/spring2023/5210/finalproject/func.py:44: FutureWarning:\n",
      "\n",
      "The default value of regex will change from True to False in a future version.\n",
      "\n",
      "/Users/chenyiyang/Desktop/spring2023/5210/finalproject/func.py:48: FutureWarning:\n",
      "\n",
      "The default value of regex will change from True to False in a future version.\n",
      "\n"
     ]
    }
   ],
   "source": [
    "from func import *\n",
    "ld = pd.read_csv(\"/Users/chenyiyang/Desktop/spring2023/5210/finalproject/left_dataset.csv\")\n",
    "rd = pd.read_csv(\"/Users/chenyiyang/Desktop/spring2023/5210/finalproject/right_dataset.csv\")\n",
    "\n",
    "vis(ld,rd)\n",
    "alg(ld,rd)"
   ]
  },
  {
   "cell_type": "code",
   "execution_count": null,
   "id": "527fec46",
   "metadata": {},
   "outputs": [],
   "source": []
  }
 ],
 "metadata": {
  "kernelspec": {
   "display_name": "Python 3 (ipykernel)",
   "language": "python",
   "name": "python3"
  },
  "language_info": {
   "codemirror_mode": {
    "name": "ipython",
    "version": 3
   },
   "file_extension": ".py",
   "mimetype": "text/x-python",
   "name": "python",
   "nbconvert_exporter": "python",
   "pygments_lexer": "ipython3",
   "version": "3.9.13"
  }
 },
 "nbformat": 4,
 "nbformat_minor": 5
}
